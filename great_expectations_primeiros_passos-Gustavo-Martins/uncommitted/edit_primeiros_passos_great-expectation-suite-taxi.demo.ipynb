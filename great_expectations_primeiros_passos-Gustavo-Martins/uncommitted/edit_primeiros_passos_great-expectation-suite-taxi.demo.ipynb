{
 "cells": [
  {
   "cell_type": "markdown",
   "id": "bc4b9611",
   "metadata": {},
   "source": [
    "# Edit Your Expectation Suite\n",
    "Use this notebook to recreate and modify your expectation suite:\n",
    "\n",
    "**Expectation Suite Name**: `primeiros_passos_great-expectation-suite-taxi.demo`\n"
   ]
  },
  {
   "cell_type": "code",
   "execution_count": null,
   "id": "568cbb8d",
   "metadata": {},
   "outputs": [],
   "source": [
    "import datetime\n",
    "\n",
    "import pandas as pd\n",
    "\n",
    "import great_expectations as ge\n",
    "import great_expectations.jupyter_ux\n",
    "from great_expectations.core.batch import BatchRequest\n",
    "from great_expectations.checkpoint import SimpleCheckpoint\n",
    "from great_expectations.exceptions import DataContextError\n",
    "\n",
    "context = ge.data_context.DataContext()\n",
    "\n",
    "# Note that if you modify this batch request, you may save the new version as a .json file\n",
    "#  to pass in later via the --batch-request option\n",
    "batch_request = {'datasource_name': 'primeiros_passos_great-expectations', 'data_connector_name': 'default_inferred_data_connector_name', 'data_asset_name': 'yellow_tripdata_sample_2019-01.csv', 'limit': 1000}\n",
    "\n",
    "\n",
    "# Feel free to change the name of your suite here. Renaming this will not remove the other one.\n",
    "expectation_suite_name = \"primeiros_passos_great-expectation-suite-taxi.demo\"\n",
    "try:\n",
    "    suite = context.get_expectation_suite(expectation_suite_name=expectation_suite_name)\n",
    "    print(f'Loaded ExpectationSuite \"{suite.expectation_suite_name}\" containing {len(suite.expectations)} expectations.')\n",
    "except DataContextError:\n",
    "    suite = context.create_expectation_suite(expectation_suite_name=expectation_suite_name)\n",
    "    print(f'Created ExpectationSuite \"{suite.expectation_suite_name}\".')\n",
    "\n",
    "\n",
    "validator = context.get_validator(\n",
    "    batch_request=BatchRequest(**batch_request),\n",
    "    expectation_suite_name=expectation_suite_name\n",
    ")\n",
    "column_names = [f'\"{column_name}\"' for column_name in validator.columns()]\n",
    "print(f\"Columns: {', '.join(column_names)}.\")\n",
    "validator.head(n_rows=5, fetch_all=False)"
   ]
  },
  {
   "cell_type": "markdown",
   "id": "7048c1be",
   "metadata": {},
   "source": [
    "## Create & Edit Expectations\n",
    "\n",
    "\n",
    "Add expectations by calling specific expectation methods on the `validator` object. They all begin with `.expect_` which makes autocompleting easy using tab.\n",
    "\n",
    "Because you selected interactive mode, you are now creating or editing an Expectation Suite with validator feedback from the sample batch of data that you specified (see `batch_request`).\n",
    "\n",
    "Note that if you select manual mode you may still create or edit an Expectation Suite directly, without feedback from the `validator`. See our documentation for more info and examples: [How to create a new Expectation Suite without a sample batch](https://docs.greatexpectations.io/docs/guides/expectations/how_to_create_and_edit_expectations_based_on_domain_knowledge_without_inspecting_data_directly).\n",
    "\n",
    "\n",
    "\n",
    "You can see all the available expectations in the **[expectation gallery](https://greatexpectations.io/expectations)**."
   ]
  },
  {
   "cell_type": "markdown",
   "id": "b12479e3",
   "metadata": {},
   "source": [
    "### Table Expectation(s)"
   ]
  },
  {
   "cell_type": "code",
   "execution_count": null,
   "id": "5e2d8f2b",
   "metadata": {},
   "outputs": [],
   "source": [
    "\n",
    "validator.expect_table_columns_to_match_ordered_list(column_list=['vendor_id', 'pickup_datetime', 'dropoff_datetime', 'passenger_count', 'trip_distance', 'rate_code_id', 'store_and_fwd_flag', 'pickup_location_id', 'dropoff_location_id', 'payment_type', 'fare_amount', 'extra', 'mta_tax', 'tip_amount', 'tolls_amount', 'improvement_surcharge', 'total_amount', 'congestion_surcharge'])"
   ]
  },
  {
   "cell_type": "code",
   "execution_count": null,
   "id": "37524423",
   "metadata": {},
   "outputs": [],
   "source": [
    "\n",
    "validator.expect_table_row_count_to_be_between(max_value=10000, min_value=10000)"
   ]
  },
  {
   "cell_type": "markdown",
   "id": "4abe4558",
   "metadata": {},
   "source": [
    "### Column Expectation(s)"
   ]
  },
  {
   "cell_type": "markdown",
   "id": "9b18b50d",
   "metadata": {},
   "source": [
    "#### `passenger_count`"
   ]
  },
  {
   "cell_type": "code",
   "execution_count": null,
   "id": "e5092113",
   "metadata": {},
   "outputs": [],
   "source": [
    "\n",
    "validator.expect_column_min_to_be_between(column='passenger_count', max_value=1, min_value=1)"
   ]
  },
  {
   "cell_type": "code",
   "execution_count": null,
   "id": "07f34509",
   "metadata": {},
   "outputs": [],
   "source": [
    "\n",
    "validator.expect_column_max_to_be_between(column='passenger_count', max_value=6, min_value=6)"
   ]
  },
  {
   "cell_type": "code",
   "execution_count": null,
   "id": "166b2acf",
   "metadata": {},
   "outputs": [],
   "source": [
    "\n",
    "validator.expect_column_mean_to_be_between(column='passenger_count', max_value=1.5716, min_value=1.5716)"
   ]
  },
  {
   "cell_type": "code",
   "execution_count": null,
   "id": "b293166f",
   "metadata": {},
   "outputs": [],
   "source": [
    "\n",
    "validator.expect_column_median_to_be_between(column='passenger_count', max_value=1.0, min_value=1.0)"
   ]
  },
  {
   "cell_type": "code",
   "execution_count": null,
   "id": "5185cb1d",
   "metadata": {},
   "outputs": [],
   "source": [
    "\n",
    "validator.expect_column_quantile_values_to_be_between(column='passenger_count', allow_relative_error='lower', quantile_ranges={'quantiles': [0.05, 0.25, 0.5, 0.75, 0.95], 'value_ranges': [[1, 1], [1, 1], [1, 1], [2, 2], [5, 5]]})"
   ]
  },
  {
   "cell_type": "code",
   "execution_count": null,
   "id": "d8a3b9e4",
   "metadata": {},
   "outputs": [],
   "source": [
    "\n",
    "validator.expect_column_values_to_be_in_set(column='passenger_count', value_set=[1, 2, 3, 4, 5, 6])"
   ]
  },
  {
   "cell_type": "code",
   "execution_count": null,
   "id": "eac498e3",
   "metadata": {},
   "outputs": [],
   "source": [
    "\n",
    "validator.expect_column_values_to_not_be_null(column='passenger_count')"
   ]
  },
  {
   "cell_type": "code",
   "execution_count": null,
   "id": "8d70d05c",
   "metadata": {},
   "outputs": [],
   "source": [
    "\n",
    "validator.expect_column_proportion_of_unique_values_to_be_between(column='passenger_count', max_value=0.0006, min_value=0.0006)"
   ]
  },
  {
   "cell_type": "code",
   "execution_count": null,
   "id": "d9652548",
   "metadata": {},
   "outputs": [],
   "source": [
    "\n",
    "validator.expect_column_values_to_be_in_type_list(column='passenger_count', type_list=['INTEGER', 'integer', 'int', 'int_', 'int8', 'int16', 'int32', 'int64', 'uint8', 'uint16', 'uint32', 'uint64', 'Int8Dtype', 'Int16Dtype', 'Int32Dtype', 'Int64Dtype', 'UInt8Dtype', 'UInt16Dtype', 'UInt32Dtype', 'UInt64Dtype', 'INT', 'INTEGER', 'INT64', 'TINYINT', 'BYTEINT', 'SMALLINT', 'BIGINT', 'IntegerType', 'LongType'])"
   ]
  },
  {
   "cell_type": "markdown",
   "id": "f800d1fa",
   "metadata": {},
   "source": [
    "## Review & Save Your Expectations\n",
    "\n",
    "Let's save the expectation suite as a JSON file in the `great_expectations/expectations` directory of your project.\n",
    "\n",
    "Let's now rebuild your Data Docs, which helps you communicate about your data with both machines and humans."
   ]
  },
  {
   "cell_type": "code",
   "execution_count": null,
   "id": "b1e8f329",
   "metadata": {},
   "outputs": [],
   "source": [
    "print(validator.get_expectation_suite(discard_failed_expectations=False))\n",
    "validator.save_expectation_suite(discard_failed_expectations=False)\n",
    "\n",
    "checkpoint_config = {\n",
    "    \"class_name\": \"SimpleCheckpoint\",\n",
    "    \"validations\": [\n",
    "        {\n",
    "            \"batch_request\": batch_request,\n",
    "            \"expectation_suite_name\": expectation_suite_name\n",
    "        }\n",
    "    ]\n",
    "}\n",
    "checkpoint = SimpleCheckpoint(\n",
    "    f\"{validator.active_batch_definition.data_asset_name}_{expectation_suite_name}\",\n",
    "    context,\n",
    "    **checkpoint_config\n",
    ")\n",
    "checkpoint_result = checkpoint.run()\n",
    "\n",
    "context.build_data_docs()\n",
    "\n",
    "validation_result_identifier = checkpoint_result.list_validation_result_identifiers()[0]\n",
    "context.open_data_docs(resource_identifier=validation_result_identifier)"
   ]
  }
 ],
 "metadata": {},
 "nbformat": 4,
 "nbformat_minor": 5
}
